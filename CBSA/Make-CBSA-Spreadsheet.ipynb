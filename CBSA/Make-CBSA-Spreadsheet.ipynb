{
 "cells": [
  {
   "cell_type": "code",
   "execution_count": 12,
   "metadata": {
    "collapsed": false
   },
   "outputs": [],
   "source": [
    "import pandas as pd\n",
    "pd.set_option('display.max_columns', None)"
   ]
  },
  {
   "cell_type": "code",
   "execution_count": 13,
   "metadata": {
    "collapsed": false
   },
   "outputs": [],
   "source": [
    "data = pd.read_csv(\"zip07_cbsa06.txt\", sep = \",\", dtype=\"str\")"
   ]
  },
  {
   "cell_type": "code",
   "execution_count": 14,
   "metadata": {
    "collapsed": false
   },
   "outputs": [
    {
     "data": {
      "text/html": [
       "<div style=\"max-height:1000px;max-width:1500px;overflow:auto;\">\n",
       "<table border=\"1\" class=\"dataframe\">\n",
       "  <thead>\n",
       "    <tr style=\"text-align: right;\">\n",
       "      <th></th>\n",
       "      <th>ZIP5</th>\n",
       "      <th>ZIP4</th>\n",
       "      <th>ZIP9</th>\n",
       "      <th>STATE CODE</th>\n",
       "      <th>STATE</th>\n",
       "      <th>COUNTY CODE</th>\n",
       "      <th>COUNTY NAME</th>\n",
       "      <th>CBSA CODE</th>\n",
       "      <th>CBSA TITLE</th>\n",
       "      <th>CBSA LSAD</th>\n",
       "      <th>METRO DIVISION CODE</th>\n",
       "      <th>METRO DIVISION TITLE</th>\n",
       "      <th>METRO DIVISION LSAD</th>\n",
       "      <th>CSA CODE</th>\n",
       "      <th>CSA TITLE</th>\n",
       "      <th>CSA LSAD</th>\n",
       "    </tr>\n",
       "  </thead>\n",
       "  <tbody>\n",
       "    <tr>\n",
       "      <th>0</th>\n",
       "      <td> 04841</td>\n",
       "      <td> NaN</td>\n",
       "      <td> 04841</td>\n",
       "      <td> 23</td>\n",
       "      <td> ME</td>\n",
       "      <td> 013</td>\n",
       "      <td>  Knox County</td>\n",
       "      <td> 40500</td>\n",
       "      <td> Rockland, ME</td>\n",
       "      <td> Micropolitan Statistical Area</td>\n",
       "      <td> NaN</td>\n",
       "      <td> NaN</td>\n",
       "      <td> NaN</td>\n",
       "      <td> NaN</td>\n",
       "      <td> NaN</td>\n",
       "      <td> NaN</td>\n",
       "    </tr>\n",
       "    <tr>\n",
       "      <th>1</th>\n",
       "      <td> 04843</td>\n",
       "      <td> NaN</td>\n",
       "      <td> 04843</td>\n",
       "      <td> 23</td>\n",
       "      <td> ME</td>\n",
       "      <td> 013</td>\n",
       "      <td>  Knox County</td>\n",
       "      <td> 40500</td>\n",
       "      <td> Rockland, ME</td>\n",
       "      <td> Micropolitan Statistical Area</td>\n",
       "      <td> NaN</td>\n",
       "      <td> NaN</td>\n",
       "      <td> NaN</td>\n",
       "      <td> NaN</td>\n",
       "      <td> NaN</td>\n",
       "      <td> NaN</td>\n",
       "    </tr>\n",
       "    <tr>\n",
       "      <th>2</th>\n",
       "      <td> 04846</td>\n",
       "      <td> NaN</td>\n",
       "      <td> 04846</td>\n",
       "      <td> 23</td>\n",
       "      <td> ME</td>\n",
       "      <td> 013</td>\n",
       "      <td>  Knox County</td>\n",
       "      <td> 40500</td>\n",
       "      <td> Rockland, ME</td>\n",
       "      <td> Micropolitan Statistical Area</td>\n",
       "      <td> NaN</td>\n",
       "      <td> NaN</td>\n",
       "      <td> NaN</td>\n",
       "      <td> NaN</td>\n",
       "      <td> NaN</td>\n",
       "      <td> NaN</td>\n",
       "    </tr>\n",
       "    <tr>\n",
       "      <th>3</th>\n",
       "      <td> 04847</td>\n",
       "      <td> NaN</td>\n",
       "      <td> 04847</td>\n",
       "      <td> 23</td>\n",
       "      <td> ME</td>\n",
       "      <td> 013</td>\n",
       "      <td>  Knox County</td>\n",
       "      <td> 40500</td>\n",
       "      <td> Rockland, ME</td>\n",
       "      <td> Micropolitan Statistical Area</td>\n",
       "      <td> NaN</td>\n",
       "      <td> NaN</td>\n",
       "      <td> NaN</td>\n",
       "      <td> NaN</td>\n",
       "      <td> NaN</td>\n",
       "      <td> NaN</td>\n",
       "    </tr>\n",
       "    <tr>\n",
       "      <th>4</th>\n",
       "      <td> 04848</td>\n",
       "      <td> NaN</td>\n",
       "      <td> 04848</td>\n",
       "      <td> 23</td>\n",
       "      <td> ME</td>\n",
       "      <td> 027</td>\n",
       "      <td> Waldo County</td>\n",
       "      <td>   NaN</td>\n",
       "      <td>          NaN</td>\n",
       "      <td>                           NaN</td>\n",
       "      <td> NaN</td>\n",
       "      <td> NaN</td>\n",
       "      <td> NaN</td>\n",
       "      <td> NaN</td>\n",
       "      <td> NaN</td>\n",
       "      <td> NaN</td>\n",
       "    </tr>\n",
       "  </tbody>\n",
       "</table>\n",
       "<p>5 rows × 16 columns</p>\n",
       "</div>"
      ],
      "text/plain": [
       "    ZIP5 ZIP4   ZIP9 STATE CODE STATE COUNTY CODE   COUNTY NAME CBSA CODE  \\\n",
       "0  04841  NaN  04841         23    ME         013   Knox County     40500   \n",
       "1  04843  NaN  04843         23    ME         013   Knox County     40500   \n",
       "2  04846  NaN  04846         23    ME         013   Knox County     40500   \n",
       "3  04847  NaN  04847         23    ME         013   Knox County     40500   \n",
       "4  04848  NaN  04848         23    ME         027  Waldo County       NaN   \n",
       "\n",
       "     CBSA TITLE                      CBSA LSAD METRO DIVISION CODE  \\\n",
       "0  Rockland, ME  Micropolitan Statistical Area                 NaN   \n",
       "1  Rockland, ME  Micropolitan Statistical Area                 NaN   \n",
       "2  Rockland, ME  Micropolitan Statistical Area                 NaN   \n",
       "3  Rockland, ME  Micropolitan Statistical Area                 NaN   \n",
       "4           NaN                            NaN                 NaN   \n",
       "\n",
       "  METRO DIVISION TITLE METRO DIVISION LSAD CSA CODE CSA TITLE CSA LSAD  \n",
       "0                  NaN                 NaN      NaN       NaN      NaN  \n",
       "1                  NaN                 NaN      NaN       NaN      NaN  \n",
       "2                  NaN                 NaN      NaN       NaN      NaN  \n",
       "3                  NaN                 NaN      NaN       NaN      NaN  \n",
       "4                  NaN                 NaN      NaN       NaN      NaN  \n",
       "\n",
       "[5 rows x 16 columns]"
      ]
     },
     "execution_count": 14,
     "metadata": {},
     "output_type": "execute_result"
    }
   ],
   "source": [
    "data[:5]"
   ]
  },
  {
   "cell_type": "code",
   "execution_count": 15,
   "metadata": {
    "collapsed": false
   },
   "outputs": [],
   "source": [
    "newdata = data[['ZIP5', 'CBSA CODE', 'CBSA LSAD']]"
   ]
  },
  {
   "cell_type": "code",
   "execution_count": 16,
   "metadata": {
    "collapsed": false
   },
   "outputs": [
    {
     "data": {
      "text/html": [
       "<div style=\"max-height:1000px;max-width:1500px;overflow:auto;\">\n",
       "<table border=\"1\" class=\"dataframe\">\n",
       "  <thead>\n",
       "    <tr style=\"text-align: right;\">\n",
       "      <th></th>\n",
       "      <th>ZIP5</th>\n",
       "      <th>CBSA CODE</th>\n",
       "      <th>CBSA LSAD</th>\n",
       "    </tr>\n",
       "  </thead>\n",
       "  <tbody>\n",
       "    <tr>\n",
       "      <th>0</th>\n",
       "      <td> 04841</td>\n",
       "      <td> 40500</td>\n",
       "      <td> Micropolitan Statistical Area</td>\n",
       "    </tr>\n",
       "    <tr>\n",
       "      <th>1</th>\n",
       "      <td> 04843</td>\n",
       "      <td> 40500</td>\n",
       "      <td> Micropolitan Statistical Area</td>\n",
       "    </tr>\n",
       "    <tr>\n",
       "      <th>2</th>\n",
       "      <td> 04846</td>\n",
       "      <td> 40500</td>\n",
       "      <td> Micropolitan Statistical Area</td>\n",
       "    </tr>\n",
       "    <tr>\n",
       "      <th>3</th>\n",
       "      <td> 04847</td>\n",
       "      <td> 40500</td>\n",
       "      <td> Micropolitan Statistical Area</td>\n",
       "    </tr>\n",
       "    <tr>\n",
       "      <th>4</th>\n",
       "      <td> 04848</td>\n",
       "      <td>   NaN</td>\n",
       "      <td>                           NaN</td>\n",
       "    </tr>\n",
       "  </tbody>\n",
       "</table>\n",
       "<p>5 rows × 3 columns</p>\n",
       "</div>"
      ],
      "text/plain": [
       "    ZIP5 CBSA CODE                      CBSA LSAD\n",
       "0  04841     40500  Micropolitan Statistical Area\n",
       "1  04843     40500  Micropolitan Statistical Area\n",
       "2  04846     40500  Micropolitan Statistical Area\n",
       "3  04847     40500  Micropolitan Statistical Area\n",
       "4  04848       NaN                            NaN\n",
       "\n",
       "[5 rows x 3 columns]"
      ]
     },
     "execution_count": 16,
     "metadata": {},
     "output_type": "execute_result"
    }
   ],
   "source": [
    "newdata[:5]"
   ]
  },
  {
   "cell_type": "code",
   "execution_count": 19,
   "metadata": {
    "collapsed": false
   },
   "outputs": [],
   "source": [
    "newdata.to_csv(\"ZipToCBSA.csv\")"
   ]
  },
  {
   "cell_type": "code",
   "execution_count": null,
   "metadata": {
    "collapsed": true
   },
   "outputs": [],
   "source": []
  }
 ],
 "metadata": {
  "kernelspec": {
   "display_name": "Python 2",
   "language": "python",
   "name": "python2"
  },
  "language_info": {
   "codemirror_mode": {
    "name": "ipython",
    "version": 2
   },
   "file_extension": ".py",
   "mimetype": "text/x-python",
   "name": "python",
   "nbconvert_exporter": "python",
   "pygments_lexer": "ipython2",
   "version": "2.7.6"
  }
 },
 "nbformat": 4,
 "nbformat_minor": 0
}
