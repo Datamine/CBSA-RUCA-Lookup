{
 "cells": [
  {
   "cell_type": "code",
   "execution_count": 8,
   "metadata": {
    "collapsed": true
   },
   "outputs": [],
   "source": [
    "import pandas as pd\n",
    "pd.set_option('display.max_columns', None)"
   ]
  },
  {
   "cell_type": "code",
   "execution_count": 9,
   "metadata": {
    "collapsed": false
   },
   "outputs": [],
   "source": [
    "df = pd.read_csv(\"ruca2010.csv\", dtype=\"str\")"
   ]
  },
  {
   "cell_type": "code",
   "execution_count": 10,
   "metadata": {
    "collapsed": false
   },
   "outputs": [
    {
     "data": {
      "text/html": [
       "<div style=\"max-height:1000px;max-width:1500px;overflow:auto;\">\n",
       "<table border=\"1\" class=\"dataframe\">\n",
       "  <thead>\n",
       "    <tr style=\"text-align: right;\">\n",
       "      <th></th>\n",
       "      <th>State-County-Tract FIPS Code (lookup by address at http://www.ffiec.gov/Geocode/)</th>\n",
       "      <th>Secondary RUCA Code, 2010</th>\n",
       "    </tr>\n",
       "  </thead>\n",
       "  <tbody>\n",
       "    <tr>\n",
       "      <th>135</th>\n",
       "      <td> 01023956900</td>\n",
       "      <td> 10.0</td>\n",
       "    </tr>\n",
       "    <tr>\n",
       "      <th>136</th>\n",
       "      <td> 01023957000</td>\n",
       "      <td> 10.0</td>\n",
       "    </tr>\n",
       "    <tr>\n",
       "      <th>137</th>\n",
       "      <td> 01025957500</td>\n",
       "      <td>  8.0</td>\n",
       "    </tr>\n",
       "    <tr>\n",
       "      <th>138</th>\n",
       "      <td> 01025957601</td>\n",
       "      <td> 10.0</td>\n",
       "    </tr>\n",
       "    <tr>\n",
       "      <th>139</th>\n",
       "      <td> 01025957602</td>\n",
       "      <td>  7.1</td>\n",
       "    </tr>\n",
       "    <tr>\n",
       "      <th>140</th>\n",
       "      <td> 01025957700</td>\n",
       "      <td>  5.0</td>\n",
       "    </tr>\n",
       "    <tr>\n",
       "      <th>141</th>\n",
       "      <td> 01025957800</td>\n",
       "      <td> 10.1</td>\n",
       "    </tr>\n",
       "    <tr>\n",
       "      <th>142</th>\n",
       "      <td> 01025957901</td>\n",
       "      <td>  2.0</td>\n",
       "    </tr>\n",
       "    <tr>\n",
       "      <th>143</th>\n",
       "      <td> 01025957902</td>\n",
       "      <td>  7.1</td>\n",
       "    </tr>\n",
       "    <tr>\n",
       "      <th>144</th>\n",
       "      <td> 01025958001</td>\n",
       "      <td> 10.0</td>\n",
       "    </tr>\n",
       "  </tbody>\n",
       "</table>\n",
       "<p>10 rows × 2 columns</p>\n",
       "</div>"
      ],
      "text/plain": [
       "    State-County-Tract FIPS Code (lookup by address at http://www.ffiec.gov/Geocode/)  \\\n",
       "135                                        01023956900                                  \n",
       "136                                        01023957000                                  \n",
       "137                                        01025957500                                  \n",
       "138                                        01025957601                                  \n",
       "139                                        01025957602                                  \n",
       "140                                        01025957700                                  \n",
       "141                                        01025957800                                  \n",
       "142                                        01025957901                                  \n",
       "143                                        01025957902                                  \n",
       "144                                        01025958001                                  \n",
       "\n",
       "    Secondary RUCA Code, 2010  \n",
       "135                      10.0  \n",
       "136                      10.0  \n",
       "137                       8.0  \n",
       "138                      10.0  \n",
       "139                       7.1  \n",
       "140                       5.0  \n",
       "141                      10.1  \n",
       "142                       2.0  \n",
       "143                       7.1  \n",
       "144                      10.0  \n",
       "\n",
       "[10 rows x 2 columns]"
      ]
     },
     "execution_count": 10,
     "metadata": {},
     "output_type": "execute_result"
    }
   ],
   "source": [
    "desired = df.iloc[:, [3,5]]\n",
    "desired[135:145]"
   ]
  },
  {
   "cell_type": "code",
   "execution_count": 11,
   "metadata": {
    "collapsed": false
   },
   "outputs": [],
   "source": [
    "desired.to_csv(\"FIPS-RUCA.csv\", index=False)"
   ]
  }
 ],
 "metadata": {
  "kernelspec": {
   "display_name": "Python 2",
   "language": "python",
   "name": "python2"
  },
  "language_info": {
   "codemirror_mode": {
    "name": "ipython",
    "version": 2
   },
   "file_extension": ".py",
   "mimetype": "text/x-python",
   "name": "python",
   "nbconvert_exporter": "python",
   "pygments_lexer": "ipython2",
   "version": "2.7.6"
  }
 },
 "nbformat": 4,
 "nbformat_minor": 1
}
